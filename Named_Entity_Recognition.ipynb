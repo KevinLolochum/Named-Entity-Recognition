{
  "nbformat": 4,
  "nbformat_minor": 0,
  "metadata": {
    "colab": {
      "name": "Named Entity Recognition ",
      "provenance": [],
      "collapsed_sections": []
    },
    "kernelspec": {
      "name": "python3",
      "display_name": "Python 3"
    }
  },
  "cells": [
    {
      "cell_type": "markdown",
      "metadata": {
        "id": "rHxKzDGIdgev"
      },
      "source": [
        "**Nmed Entity Recognition**\n",
        "\n",
        "- NER is an NLP task of categorizing the words in a text to common categories such as the name of a person, date, organization, etc.\n",
        "- It can be used to extract information like products named in a complaint, location, companies in an article etc.\n"
      ]
    },
    {
      "cell_type": "markdown",
      "metadata": {
        "id": "BJNmaWh0fBhB"
      },
      "source": [
        "NER implimentation using NLTK"
      ]
    },
    {
      "cell_type": "code",
      "metadata": {
        "id": "vj75MN2ndcgB"
      },
      "source": [
        "# Downloading nltk requirements\n",
        "\n",
        "import nltk\n",
        "from nltk.tokenize import word_tokenize\n",
        "from nltk.tag import pos_tag\n",
        "\n",
        "nltk.download('punkt')\n",
        "nltk.download('averaged_perceptron_tagger')"
      ],
      "execution_count": null,
      "outputs": []
    },
    {
      "cell_type": "code",
      "metadata": {
        "id": "sdMlkA-nfiP2"
      },
      "source": [
        "Document = ['''Dr. Theresa Tam was named Canada’s Chief Public Health Officer (CPHO) on June 26, 2017.''', ''' She is a physician with expertise in immunization, infectious disease, emergency preparedness and global health security.''', '''\n",
        "\n",
        "As the federal government’s lead health professional, Dr. Tam provides advice to the Minister of Health, supports and provides advice to the President of the Public Health Agency of Canada, and works in collaboration with the President in the leadership and management of the Agency.''',\n",
        "\n",
        "'''The Public Health Agency of Canada Act empowers the CPHO to communicate with other levels of government, voluntary organizations, the private sector and Canadians on public health issues.''',  '''Each year, the CPHO is required to submit a report to the Minister of Health on the state of public health in Canada.''']"
      ],
      "execution_count": 5,
      "outputs": []
    },
    {
      "cell_type": "code",
      "metadata": {
        "id": "qlQY2zUDgC8Z",
        "colab": {
          "base_uri": "https://localhost:8080/"
        },
        "outputId": "80df834e-5cda-4331-962d-70b2c3963ecd"
      },
      "source": [
        "# Word tokenization\n",
        "\n",
        "def pre_process(Doc):\n",
        "  Named = []\n",
        "  for sent in Doc:\n",
        "    sent = nltk.word_tokenize(sent)\n",
        "    sent = nltk.pos_tag(sent) # part of speech tag\n",
        "    Named.append(sent)\n",
        "  return Named\n",
        "\n",
        "tokenized_sentences = pre_process(Document)\n",
        "tokenized_sentences"
      ],
      "execution_count": 9,
      "outputs": [
        {
          "output_type": "execute_result",
          "data": {
            "text/plain": [
              "[[('Dr.', 'NNP'),\n",
              "  ('Theresa', 'NNP'),\n",
              "  ('Tam', 'NNP'),\n",
              "  ('was', 'VBD'),\n",
              "  ('named', 'VBN'),\n",
              "  ('Canada', 'NNP'),\n",
              "  ('’', 'NNP'),\n",
              "  ('s', 'NN'),\n",
              "  ('Chief', 'NNP'),\n",
              "  ('Public', 'NNP'),\n",
              "  ('Health', 'NNP'),\n",
              "  ('Officer', 'NNP'),\n",
              "  ('(', '('),\n",
              "  ('CPHO', 'NNP'),\n",
              "  (')', ')'),\n",
              "  ('on', 'IN'),\n",
              "  ('June', 'NNP'),\n",
              "  ('26', 'CD'),\n",
              "  (',', ','),\n",
              "  ('2017', 'CD'),\n",
              "  ('.', '.')],\n",
              " [('She', 'PRP'),\n",
              "  ('is', 'VBZ'),\n",
              "  ('a', 'DT'),\n",
              "  ('physician', 'JJ'),\n",
              "  ('with', 'IN'),\n",
              "  ('expertise', 'NN'),\n",
              "  ('in', 'IN'),\n",
              "  ('immunization', 'NN'),\n",
              "  (',', ','),\n",
              "  ('infectious', 'JJ'),\n",
              "  ('disease', 'NN'),\n",
              "  (',', ','),\n",
              "  ('emergency', 'NN'),\n",
              "  ('preparedness', 'NN'),\n",
              "  ('and', 'CC'),\n",
              "  ('global', 'JJ'),\n",
              "  ('health', 'NN'),\n",
              "  ('security', 'NN'),\n",
              "  ('.', '.')],\n",
              " [('As', 'IN'),\n",
              "  ('the', 'DT'),\n",
              "  ('federal', 'JJ'),\n",
              "  ('government', 'NN'),\n",
              "  ('’', 'NNP'),\n",
              "  ('s', 'VBZ'),\n",
              "  ('lead', 'JJ'),\n",
              "  ('health', 'NN'),\n",
              "  ('professional', 'JJ'),\n",
              "  (',', ','),\n",
              "  ('Dr.', 'NNP'),\n",
              "  ('Tam', 'NNP'),\n",
              "  ('provides', 'VBZ'),\n",
              "  ('advice', 'NN'),\n",
              "  ('to', 'TO'),\n",
              "  ('the', 'DT'),\n",
              "  ('Minister', 'NNP'),\n",
              "  ('of', 'IN'),\n",
              "  ('Health', 'NNP'),\n",
              "  (',', ','),\n",
              "  ('supports', 'NNS'),\n",
              "  ('and', 'CC'),\n",
              "  ('provides', 'VBZ'),\n",
              "  ('advice', 'NN'),\n",
              "  ('to', 'TO'),\n",
              "  ('the', 'DT'),\n",
              "  ('President', 'NNP'),\n",
              "  ('of', 'IN'),\n",
              "  ('the', 'DT'),\n",
              "  ('Public', 'NNP'),\n",
              "  ('Health', 'NNP'),\n",
              "  ('Agency', 'NNP'),\n",
              "  ('of', 'IN'),\n",
              "  ('Canada', 'NNP'),\n",
              "  (',', ','),\n",
              "  ('and', 'CC'),\n",
              "  ('works', 'VBZ'),\n",
              "  ('in', 'IN'),\n",
              "  ('collaboration', 'NN'),\n",
              "  ('with', 'IN'),\n",
              "  ('the', 'DT'),\n",
              "  ('President', 'NNP'),\n",
              "  ('in', 'IN'),\n",
              "  ('the', 'DT'),\n",
              "  ('leadership', 'NN'),\n",
              "  ('and', 'CC'),\n",
              "  ('management', 'NN'),\n",
              "  ('of', 'IN'),\n",
              "  ('the', 'DT'),\n",
              "  ('Agency', 'NNP'),\n",
              "  ('.', '.')],\n",
              " [('The', 'DT'),\n",
              "  ('Public', 'NNP'),\n",
              "  ('Health', 'NNP'),\n",
              "  ('Agency', 'NNP'),\n",
              "  ('of', 'IN'),\n",
              "  ('Canada', 'NNP'),\n",
              "  ('Act', 'NNP'),\n",
              "  ('empowers', 'VBZ'),\n",
              "  ('the', 'DT'),\n",
              "  ('CPHO', 'NNP'),\n",
              "  ('to', 'TO'),\n",
              "  ('communicate', 'VB'),\n",
              "  ('with', 'IN'),\n",
              "  ('other', 'JJ'),\n",
              "  ('levels', 'NNS'),\n",
              "  ('of', 'IN'),\n",
              "  ('government', 'NN'),\n",
              "  (',', ','),\n",
              "  ('voluntary', 'JJ'),\n",
              "  ('organizations', 'NNS'),\n",
              "  (',', ','),\n",
              "  ('the', 'DT'),\n",
              "  ('private', 'JJ'),\n",
              "  ('sector', 'NN'),\n",
              "  ('and', 'CC'),\n",
              "  ('Canadians', 'NNPS'),\n",
              "  ('on', 'IN'),\n",
              "  ('public', 'JJ'),\n",
              "  ('health', 'NN'),\n",
              "  ('issues', 'NNS'),\n",
              "  ('.', '.')],\n",
              " [('Each', 'DT'),\n",
              "  ('year', 'NN'),\n",
              "  (',', ','),\n",
              "  ('the', 'DT'),\n",
              "  ('CPHO', 'NNP'),\n",
              "  ('is', 'VBZ'),\n",
              "  ('required', 'VBN'),\n",
              "  ('to', 'TO'),\n",
              "  ('submit', 'VB'),\n",
              "  ('a', 'DT'),\n",
              "  ('report', 'NN'),\n",
              "  ('to', 'TO'),\n",
              "  ('the', 'DT'),\n",
              "  ('Minister', 'NNP'),\n",
              "  ('of', 'IN'),\n",
              "  ('Health', 'NNP'),\n",
              "  ('on', 'IN'),\n",
              "  ('the', 'DT'),\n",
              "  ('state', 'NN'),\n",
              "  ('of', 'IN'),\n",
              "  ('public', 'JJ'),\n",
              "  ('health', 'NN'),\n",
              "  ('in', 'IN'),\n",
              "  ('Canada', 'NNP'),\n",
              "  ('.', '.')]]"
            ]
          },
          "metadata": {
            "tags": []
          },
          "execution_count": 9
        }
      ]
    },
    {
      "cell_type": "markdown",
      "metadata": {
        "id": "_kbvVNjTn4dP"
      },
      "source": [
        "Chunking\n",
        "\n",
        "- Use regular expressions to identity the named entities \n",
        "- For example the noun phrase chunking pattern below\n",
        "- The chunk pattern consists of one rule, that a noun phrase, NP, should be formed whenever the chunker finds an optional determiner, DT, followed by any number of adjectives, JJ, and then a noun, NN."
      ]
    },
    {
      "cell_type": "code",
      "metadata": {
        "colab": {
          "base_uri": "https://localhost:8080/"
        },
        "id": "YOSN3BOAtBjM",
        "outputId": "bccb607a-89e2-4c1c-a3b9-aca39302bf18"
      },
      "source": [
        "# Pattern\n",
        "pattern = 'NP: {<DT>?<JJ>*<NN>}'\n",
        "\n",
        "# Chunk paser\n",
        "\n",
        "cp = nltk.RegexpParser(pattern)\n",
        "cs = cp.parse(tokenized_sentences[0])\n",
        "print(cs)\n"
      ],
      "execution_count": 10,
      "outputs": [
        {
          "output_type": "stream",
          "text": [
            "(S\n",
            "  Dr./NNP\n",
            "  Theresa/NNP\n",
            "  Tam/NNP\n",
            "  was/VBD\n",
            "  named/VBN\n",
            "  Canada/NNP\n",
            "  ’/NNP\n",
            "  (NP s/NN)\n",
            "  Chief/NNP\n",
            "  Public/NNP\n",
            "  Health/NNP\n",
            "  Officer/NNP\n",
            "  (/(\n",
            "  CPHO/NNP\n",
            "  )/)\n",
            "  on/IN\n",
            "  June/NNP\n",
            "  26/CD\n",
            "  ,/,\n",
            "  2017/CD\n",
            "  ./.)\n"
          ],
          "name": "stdout"
        }
      ]
    },
    {
      "cell_type": "markdown",
      "metadata": {
        "id": "9tetE6nifrtR"
      },
      "source": [
        "Using IOB format to represent the chunk structures in files.\n",
        "- I - word in inside, eg. I-NP means word is inside a noun phrase\n",
        "- O - End of sentence\n",
        "- B - Beginning of a phrase, NP of VP\n"
      ]
    },
    {
      "cell_type": "code",
      "metadata": {
        "colab": {
          "base_uri": "https://localhost:8080/"
        },
        "id": "Pma8uBigtZ0U",
        "outputId": "68bde166-1b9c-4e9e-d1ed-c02b1b361097"
      },
      "source": [
        "from nltk import tree2conlltags\n",
        "\n",
        "iob_tags = tree2conlltags(cs)\n",
        "iob_tags\n",
        "\n",
        "# Returns word, part of speech tag, IOBtag tuples."
      ],
      "execution_count": 13,
      "outputs": [
        {
          "output_type": "execute_result",
          "data": {
            "text/plain": [
              "[('Dr.', 'NNP', 'O'),\n",
              " ('Theresa', 'NNP', 'O'),\n",
              " ('Tam', 'NNP', 'O'),\n",
              " ('was', 'VBD', 'O'),\n",
              " ('named', 'VBN', 'O'),\n",
              " ('Canada', 'NNP', 'O'),\n",
              " ('’', 'NNP', 'O'),\n",
              " ('s', 'NN', 'B-NP'),\n",
              " ('Chief', 'NNP', 'O'),\n",
              " ('Public', 'NNP', 'O'),\n",
              " ('Health', 'NNP', 'O'),\n",
              " ('Officer', 'NNP', 'O'),\n",
              " ('(', '(', 'O'),\n",
              " ('CPHO', 'NNP', 'O'),\n",
              " (')', ')', 'O'),\n",
              " ('on', 'IN', 'O'),\n",
              " ('June', 'NNP', 'O'),\n",
              " ('26', 'CD', 'O'),\n",
              " (',', ',', 'O'),\n",
              " ('2017', 'CD', 'O'),\n",
              " ('.', '.', 'O')]"
            ]
          },
          "metadata": {
            "tags": []
          },
          "execution_count": 13
        }
      ]
    },
    {
      "cell_type": "markdown",
      "metadata": {
        "id": "rLmn4U-qiwQN"
      },
      "source": [
        "nltk.ne_chunk can be used to indetify named entity and classify them using the classifier."
      ]
    },
    {
      "cell_type": "code",
      "metadata": {
        "id": "aTywF1YNkeiW"
      },
      "source": [
        "from nltk import ne_chunk\n",
        "nltk.download('maxent_ne_chunker')\n",
        "nltk.download('words')"
      ],
      "execution_count": null,
      "outputs": []
    },
    {
      "cell_type": "code",
      "metadata": {
        "colab": {
          "base_uri": "https://localhost:8080/"
        },
        "id": "V4p9n_0wEVgY",
        "outputId": "386399d1-1b28-4083-e356-b4740cbf3181"
      },
      "source": [
        "ne_tree = [ne_chunk(pos_tag(word_tokenize(sent))) for sent in Document]\n",
        "ne_tree"
      ],
      "execution_count": 16,
      "outputs": [
        {
          "output_type": "execute_result",
          "data": {
            "text/plain": [
              "[Tree('S', [('Dr.', 'NNP'), ('Theresa', 'NNP'), ('Tam', 'NNP'), ('was', 'VBD'), ('named', 'VBN'), Tree('PERSON', [('Canada', 'NNP')]), ('’', 'NNP'), ('s', 'NN'), ('Chief', 'NNP'), Tree('PERSON', [('Public', 'NNP'), ('Health', 'NNP'), ('Officer', 'NNP')]), ('(', '('), Tree('ORGANIZATION', [('CPHO', 'NNP')]), (')', ')'), ('on', 'IN'), ('June', 'NNP'), ('26', 'CD'), (',', ','), ('2017', 'CD'), ('.', '.')]),\n",
              " Tree('S', [('She', 'PRP'), ('is', 'VBZ'), ('a', 'DT'), ('physician', 'JJ'), ('with', 'IN'), ('expertise', 'NN'), ('in', 'IN'), ('immunization', 'NN'), (',', ','), ('infectious', 'JJ'), ('disease', 'NN'), (',', ','), ('emergency', 'NN'), ('preparedness', 'NN'), ('and', 'CC'), ('global', 'JJ'), ('health', 'NN'), ('security', 'NN'), ('.', '.')]),\n",
              " Tree('S', [('As', 'IN'), ('the', 'DT'), ('federal', 'JJ'), ('government', 'NN'), ('’', 'NNP'), ('s', 'VBZ'), ('lead', 'JJ'), ('health', 'NN'), ('professional', 'JJ'), (',', ','), ('Dr.', 'NNP'), ('Tam', 'NNP'), ('provides', 'VBZ'), ('advice', 'NN'), ('to', 'TO'), ('the', 'DT'), ('Minister', 'NNP'), ('of', 'IN'), Tree('GPE', [('Health', 'NNP')]), (',', ','), ('supports', 'NNS'), ('and', 'CC'), ('provides', 'VBZ'), ('advice', 'NN'), ('to', 'TO'), ('the', 'DT'), ('President', 'NNP'), ('of', 'IN'), ('the', 'DT'), Tree('ORGANIZATION', [('Public', 'NNP'), ('Health', 'NNP'), ('Agency', 'NNP')]), ('of', 'IN'), Tree('GPE', [('Canada', 'NNP')]), (',', ','), ('and', 'CC'), ('works', 'VBZ'), ('in', 'IN'), ('collaboration', 'NN'), ('with', 'IN'), ('the', 'DT'), ('President', 'NNP'), ('in', 'IN'), ('the', 'DT'), ('leadership', 'NN'), ('and', 'CC'), ('management', 'NN'), ('of', 'IN'), ('the', 'DT'), Tree('GPE', [('Agency', 'NNP')]), ('.', '.')]),\n",
              " Tree('S', [('The', 'DT'), Tree('ORGANIZATION', [('Public', 'NNP'), ('Health', 'NNP'), ('Agency', 'NNP')]), ('of', 'IN'), Tree('GPE', [('Canada', 'NNP')]), ('Act', 'NNP'), ('empowers', 'VBZ'), ('the', 'DT'), Tree('ORGANIZATION', [('CPHO', 'NNP')]), ('to', 'TO'), ('communicate', 'VB'), ('with', 'IN'), ('other', 'JJ'), ('levels', 'NNS'), ('of', 'IN'), ('government', 'NN'), (',', ','), ('voluntary', 'JJ'), ('organizations', 'NNS'), (',', ','), ('the', 'DT'), ('private', 'JJ'), ('sector', 'NN'), ('and', 'CC'), Tree('GPE', [('Canadians', 'NNPS')]), ('on', 'IN'), ('public', 'JJ'), ('health', 'NN'), ('issues', 'NNS'), ('.', '.')]),\n",
              " Tree('S', [('Each', 'DT'), ('year', 'NN'), (',', ','), ('the', 'DT'), Tree('ORGANIZATION', [('CPHO', 'NNP')]), ('is', 'VBZ'), ('required', 'VBN'), ('to', 'TO'), ('submit', 'VB'), ('a', 'DT'), ('report', 'NN'), ('to', 'TO'), ('the', 'DT'), ('Minister', 'NNP'), ('of', 'IN'), Tree('GPE', [('Health', 'NNP')]), ('on', 'IN'), ('the', 'DT'), ('state', 'NN'), ('of', 'IN'), ('public', 'JJ'), ('health', 'NN'), ('in', 'IN'), Tree('GPE', [('Canada', 'NNP')]), ('.', '.')])]"
            ]
          },
          "metadata": {
            "tags": []
          },
          "execution_count": 16
        }
      ]
    },
    {
      "cell_type": "markdown",
      "metadata": {
        "id": "A84fnMuHlfSf"
      },
      "source": [
        "Using **Spacy** for named entity recognition"
      ]
    },
    {
      "cell_type": "code",
      "metadata": {
        "id": "1E8jQLBAlmoC"
      },
      "source": [
        "import spacy\n",
        "from spacy import displacy\n",
        "from collections import Counter\n",
        "import en_core_web_sm\n",
        "\n",
        "\n",
        "nlp = en_core_web_sm.load()"
      ],
      "execution_count": 17,
      "outputs": []
    },
    {
      "cell_type": "markdown",
      "metadata": {
        "id": "2FlzSQy09nM-"
      },
      "source": [
        "Entity level."
      ]
    },
    {
      "cell_type": "code",
      "metadata": {
        "colab": {
          "base_uri": "https://localhost:8080/"
        },
        "id": "zNh2KLg55Z7f",
        "outputId": "d232526b-13f3-491f-8052-dcefb911e64f"
      },
      "source": [
        "# Tokenize and print entity level tags\n",
        "Entities = nlp(Document[0])\n",
        "[(x.text, x.label_) for x in Entities.ents]"
      ],
      "execution_count": 18,
      "outputs": [
        {
          "output_type": "execute_result",
          "data": {
            "text/plain": [
              "[('Theresa Tam', 'PERSON'), ('Canada', 'GPE'), ('June 26, 2017', 'DATE')]"
            ]
          },
          "metadata": {
            "tags": []
          },
          "execution_count": 18
        }
      ]
    },
    {
      "cell_type": "markdown",
      "metadata": {
        "id": "2ZWSRW5h9rVB"
      },
      "source": [
        "Token level entity annotation.\n",
        "\n",
        "- **B**egin - The first token of a multi_token entity\n",
        "- **I**n - An inner token of a multi-token entity\n",
        "- **L**ast - The final token of a multi-token entity\n",
        "- **U**nit - A single token entity\n",
        "- **O**ut - A non-entity token"
      ]
    },
    {
      "cell_type": "code",
      "metadata": {
        "colab": {
          "base_uri": "https://localhost:8080/"
        },
        "id": "67LnsQLH9TmY",
        "outputId": "a331522d-25ee-491d-b81c-1104ef424858"
      },
      "source": [
        "[(x, x.ent_iob_, x.ent_type_) for x in Entities]"
      ],
      "execution_count": 19,
      "outputs": [
        {
          "output_type": "execute_result",
          "data": {
            "text/plain": [
              "[(Dr., 'O', ''),\n",
              " (Theresa, 'B', 'PERSON'),\n",
              " (Tam, 'I', 'PERSON'),\n",
              " (was, 'O', ''),\n",
              " (named, 'O', ''),\n",
              " (Canada, 'B', 'GPE'),\n",
              " (’s, 'O', ''),\n",
              " (Chief, 'O', ''),\n",
              " (Public, 'O', ''),\n",
              " (Health, 'O', ''),\n",
              " (Officer, 'O', ''),\n",
              " ((, 'O', ''),\n",
              " (CPHO, 'O', ''),\n",
              " (), 'O', ''),\n",
              " (on, 'O', ''),\n",
              " (June, 'B', 'DATE'),\n",
              " (26, 'I', 'DATE'),\n",
              " (,, 'I', 'DATE'),\n",
              " (2017, 'I', 'DATE'),\n",
              " (., 'O', '')]"
            ]
          },
          "metadata": {
            "tags": []
          },
          "execution_count": 19
        }
      ]
    },
    {
      "cell_type": "markdown",
      "metadata": {
        "id": "hTfTOW1GV243"
      },
      "source": [
        "**NER** extraction from an article."
      ]
    },
    {
      "cell_type": "code",
      "metadata": {
        "id": "LGGHz19_V9I8"
      },
      "source": [
        "from bs4 import BeautifulSoup\n",
        "import requests\n",
        "import re\n",
        "\n",
        "def url_to_string(URL):\n",
        "  res = requests.get(URL)\n",
        "  html = res.text\n",
        "  soup = BeautifulSoup(html, 'html5lib')\n",
        "\n",
        "  for script in soup(['script', 'style', 'aside']):\n",
        "    script.extract()\n",
        "  return \" \".join(re.split(r'[\\n\\t]+', soup.get_text()))\n",
        "\n",
        "Preprocessed = url_to_string('https://www.nytimes.com/2018/08/13/us/politics/peter-strzok-fired-fbi.html?hp&action=click&pgtype=Homepage&clickSource=story-heading&module=first-column-region&region=top-news&WT.nav=top-news')\n",
        "\n",
        "Article = nlp(Preprocessed)"
      ],
      "execution_count": 20,
      "outputs": []
    },
    {
      "cell_type": "code",
      "metadata": {
        "colab": {
          "base_uri": "https://localhost:8080/"
        },
        "id": "kEDTORqmaS6N",
        "outputId": "1dacc7f0-bc24-482d-8f1b-2498cd283721"
      },
      "source": [
        "# Labels counter\n",
        "\n",
        "Labels = [X.label_ for X in Article.ents]\n",
        "Counter(Labels)"
      ],
      "execution_count": 22,
      "outputs": [
        {
          "output_type": "execute_result",
          "data": {
            "text/plain": [
              "Counter({'CARDINAL': 3,\n",
              "         'DATE': 23,\n",
              "         'GPE': 9,\n",
              "         'LOC': 1,\n",
              "         'NORP': 2,\n",
              "         'ORDINAL': 1,\n",
              "         'ORG': 38,\n",
              "         'PERSON': 77})"
            ]
          },
          "metadata": {
            "tags": []
          },
          "execution_count": 22
        }
      ]
    },
    {
      "cell_type": "code",
      "metadata": {
        "colab": {
          "base_uri": "https://localhost:8080/"
        },
        "id": "eIfHy3tOchsE",
        "outputId": "9475783e-00ce-41f6-c97b-924a7caee8b4"
      },
      "source": [
        "# Most frequently mentioned tokens\n",
        "# To quickly find out what the article is about\n",
        "items = [x.text for x in Article.ents]\n",
        "Counter(items).most_common(3)"
      ],
      "execution_count": 23,
      "outputs": [
        {
          "output_type": "execute_result",
          "data": {
            "text/plain": [
              "[('Strzok', 29), ('F.B.I.', 19), ('Trump', 13)]"
            ]
          },
          "metadata": {
            "tags": []
          },
          "execution_count": 23
        }
      ]
    },
    {
      "cell_type": "markdown",
      "metadata": {
        "id": "q-f5I-BrhIxs"
      },
      "source": [
        "Naming the entities and extracting the lemma"
      ]
    },
    {
      "cell_type": "code",
      "metadata": {
        "colab": {
          "base_uri": "https://localhost:8080/"
        },
        "id": "MffetQ8of1Qf",
        "outputId": "04ef12b2-5e24-457e-b2af-5498be408250"
      },
      "source": [
        "# \n",
        "sentences = [x for x in Article.sents]\n",
        "\n",
        "[(X.orth_, X.pos_, X.lemma_) for X in [Y for Y in nlp(str(sentences[20]))\n",
        "                                               if not Y.is_stop and Y.pos_ != 'PUNCT']]"
      ],
      "execution_count": 24,
      "outputs": [
        {
          "output_type": "execute_result",
          "data": {
            "text/plain": [
              "[('spokeswoman', 'NOUN', 'spokeswoman'),\n",
              " ('F.B.I.', 'PROPN', 'F.B.I.'),\n",
              " ('respond', 'VERB', 'respond'),\n",
              " ('message', 'NOUN', 'message'),\n",
              " ('seeking', 'VERB', 'seek'),\n",
              " ('comment', 'NOUN', 'comment'),\n",
              " ('Mr.', 'PROPN', 'Mr.'),\n",
              " ('Strzok', 'PROPN', 'Strzok'),\n",
              " ('dismissed', 'VERB', 'dismiss'),\n",
              " ('demoted', 'VERB', 'demote')]"
            ]
          },
          "metadata": {
            "tags": []
          },
          "execution_count": 24
        }
      ]
    }
  ]
}